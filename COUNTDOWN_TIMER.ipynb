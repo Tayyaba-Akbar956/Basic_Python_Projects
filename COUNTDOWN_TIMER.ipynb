{
  "nbformat": 4,
  "nbformat_minor": 0,
  "metadata": {
    "colab": {
      "provenance": [],
      "authorship_tag": "ABX9TyNV0o2ZcfN8SPdxHbOrJgAZ",
      "include_colab_link": true
    },
    "kernelspec": {
      "name": "python3",
      "display_name": "Python 3"
    },
    "language_info": {
      "name": "python"
    }
  },
  "cells": [
    {
      "cell_type": "markdown",
      "metadata": {
        "id": "view-in-github",
        "colab_type": "text"
      },
      "source": [
        "<a href=\"https://colab.research.google.com/github/Tayyaba-Akbar956/Basic_Python_Projects/blob/main/COUNTDOWN_TIMER.ipynb\" target=\"_parent\"><img src=\"https://colab.research.google.com/assets/colab-badge.svg\" alt=\"Open In Colab\"/></a>"
      ]
    },
    {
      "cell_type": "code",
      "source": [
        "import time\n",
        "from IPython.display import clear_output\n",
        "\n",
        "def countdown(t):\n",
        "    while t:\n",
        "        mins, secs = divmod(t, 60)\n",
        "        timer = \"{:02d}:{:02d}\".format(mins, secs)\n",
        "\n",
        "        clear_output(wait=True)  # Clears the output for smooth update\n",
        "        print(timer)\n",
        "\n",
        "        time.sleep(1)\n",
        "        t -= 1\n",
        "\n",
        "    clear_output(wait=True)  # Final clear\n",
        "    print(\"Fire in the hole!\")\n",
        "\n",
        "# Get user input\n",
        "t = int(input(\"Enter the time in seconds: \"))\n",
        "countdown(t)\n"
      ],
      "metadata": {
        "colab": {
          "base_uri": "https://localhost:8080/"
        },
        "id": "0vjKC4Vp60e3",
        "outputId": "bb1594d6-f184-4f5f-b3da-e43dc159ca54"
      },
      "execution_count": 1,
      "outputs": [
        {
          "output_type": "stream",
          "name": "stdout",
          "text": [
            "Fire in the hole!\n"
          ]
        }
      ]
    }
  ]
}