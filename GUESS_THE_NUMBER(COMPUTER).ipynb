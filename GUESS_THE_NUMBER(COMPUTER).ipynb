{
  "nbformat": 4,
  "nbformat_minor": 0,
  "metadata": {
    "colab": {
      "provenance": [],
      "authorship_tag": "ABX9TyMpiTcSN3RVBNNEv8frZOpv",
      "include_colab_link": true
    },
    "kernelspec": {
      "name": "python3",
      "display_name": "Python 3"
    },
    "language_info": {
      "name": "python"
    }
  },
  "cells": [
    {
      "cell_type": "markdown",
      "metadata": {
        "id": "view-in-github",
        "colab_type": "text"
      },
      "source": [
        "<a href=\"https://colab.research.google.com/github/Tayyaba-Akbar956/Basic_Python_Projects/blob/main/GUESS_THE_NUMBER(COMPUTER).ipynb\" target=\"_parent\"><img src=\"https://colab.research.google.com/assets/colab-badge.svg\" alt=\"Open In Colab\"/></a>"
      ]
    },
    {
      "cell_type": "code",
      "source": [
        "import random\n",
        "\n",
        "def computer_guess(x):\n",
        "  low = 1\n",
        "  high = x\n",
        "  feedback = ''\n",
        "  while feedback != 'c':\n",
        "    if low != high:\n",
        "      guess = random.randint(low, high)\n",
        "    else:\n",
        "      guess = low  # could also be high since low = high\n",
        "    feedback = input(f'Is {guess} too high (H), too low (L), or correct (C)?? ').lower()\n",
        "    if feedback == 'h':\n",
        "      high = guess - 1\n",
        "    elif feedback == 'l':\n",
        "      low = guess + 1\n",
        "  print(f'Yay! The computer guessed your number, {guess}, correctly!')\n",
        "\n",
        "\n",
        "computer_guess(10)\n"
      ],
      "metadata": {
        "colab": {
          "base_uri": "https://localhost:8080/"
        },
        "id": "lzzXMtlMU5nI",
        "outputId": "b098e203-0969-4aa8-a35f-661fd932efd7"
      },
      "execution_count": 1,
      "outputs": [
        {
          "output_type": "stream",
          "name": "stdout",
          "text": [
            "Is 4 too high (H), too low (L), or correct (C)?? l\n",
            "Is 10 too high (H), too low (L), or correct (C)?? h\n",
            "Is 7 too high (H), too low (L), or correct (C)?? l\n",
            "Is 9 too high (H), too low (L), or correct (C)?? h\n",
            "Is 8 too high (H), too low (L), or correct (C)?? c\n",
            "Yay! The computer guessed your number, 8, correctly!\n"
          ]
        }
      ]
    }
  ]
}