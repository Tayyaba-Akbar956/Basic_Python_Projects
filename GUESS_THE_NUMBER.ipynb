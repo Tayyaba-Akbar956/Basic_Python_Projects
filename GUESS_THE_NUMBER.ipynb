{
  "nbformat": 4,
  "nbformat_minor": 0,
  "metadata": {
    "colab": {
      "provenance": [],
      "authorship_tag": "ABX9TyOxbdArjNE+MaAG+Sb1nrkJ",
      "include_colab_link": true
    },
    "kernelspec": {
      "name": "python3",
      "display_name": "Python 3"
    },
    "language_info": {
      "name": "python"
    }
  },
  "cells": [
    {
      "cell_type": "markdown",
      "metadata": {
        "id": "view-in-github",
        "colab_type": "text"
      },
      "source": [
        "<a href=\"https://colab.research.google.com/github/Tayyaba-Akbar956/Basic_Python_Projects/blob/main/GUESS_THE_NUMBER.ipynb\" target=\"_parent\"><img src=\"https://colab.research.google.com/assets/colab-badge.svg\" alt=\"Open In Colab\"/></a>"
      ]
    },
    {
      "cell_type": "code",
      "execution_count": 1,
      "metadata": {
        "id": "ZKicOQHBzefR",
        "colab": {
          "base_uri": "https://localhost:8080/"
        },
        "outputId": "4e209578-5052-4384-8dde-1ffee0b43d7b"
      },
      "outputs": [
        {
          "output_type": "stream",
          "name": "stdout",
          "text": [
            "guess the number between 1 and 10:3\n",
            "Too low!\n",
            "guess the number between 1 and 10:6\n",
            "Too low!\n",
            "guess the number between 1 and 10:9\n",
            "Too high!\n",
            "guess the number between 1 and 10:8\n",
            "Too high!\n",
            "guess the number between 1 and 10:7\n",
            "Congrats!you guess the right number.\n"
          ]
        }
      ],
      "source": [
        "def number_guess():\n",
        "    import random\n",
        "    random.randint(1,10)\n",
        "    number = random.randint(1,10)\n",
        "    while True:\n",
        "        guess = int (input (\"guess the number between 1 and 10:\" ))\n",
        "        if guess > number:\n",
        "            print(\"Too high!\")\n",
        "        elif guess < number:\n",
        "            print (\"Too low!\")\n",
        "        else:\n",
        "            print (\"Congrats!you guess the right number.\")\n",
        "            break\n",
        "number_guess()"
      ]
    }
  ]
}