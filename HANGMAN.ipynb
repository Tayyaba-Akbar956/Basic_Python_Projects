{
  "nbformat": 4,
  "nbformat_minor": 0,
  "metadata": {
    "colab": {
      "provenance": [],
      "authorship_tag": "ABX9TyM+UJlwEkQiDu3R3Sz8H3wj",
      "include_colab_link": true
    },
    "kernelspec": {
      "name": "python3",
      "display_name": "Python 3"
    },
    "language_info": {
      "name": "python"
    }
  },
  "cells": [
    {
      "cell_type": "markdown",
      "metadata": {
        "id": "view-in-github",
        "colab_type": "text"
      },
      "source": [
        "<a href=\"https://colab.research.google.com/github/Tayyaba-Akbar956/Basic_Python_Projects/blob/main/HANGMAN.ipynb\" target=\"_parent\"><img src=\"https://colab.research.google.com/assets/colab-badge.svg\" alt=\"Open In Colab\"/></a>"
      ]
    },
    {
      "cell_type": "code",
      "execution_count": null,
      "metadata": {
        "colab": {
          "base_uri": "https://localhost:8080/"
        },
        "id": "GRFxjO1wbvIM",
        "outputId": "19473173-8294-4147-bafb-75d323ccb43c"
      },
      "outputs": [
        {
          "output_type": "stream",
          "name": "stdout",
          "text": [
            "Welcome to Hangman!\n",
            "Word: ___________\n",
            "Attempts remaining: 6\n",
            "Guess a letter: t\n",
            "Incorrect guess.\n",
            "Word: ___________\n",
            "Attempts remaining: 5\n",
            "Guess a letter: a\n",
            "Word: _____a_____\n",
            "Attempts remaining: 5\n",
            "Guess a letter: s\n",
            "Incorrect guess.\n",
            "Word: _____a_____\n",
            "Attempts remaining: 4\n",
            "Guess a letter: t\n",
            "You already guessed that letter. Try again.\n",
            "Word: _____a_____\n",
            "Attempts remaining: 4\n",
            "Guess a letter: f\n",
            "Incorrect guess.\n",
            "Word: _____a_____\n",
            "Attempts remaining: 3\n",
            "Guess a letter: r\n",
            "Word: _r__ra_____\n",
            "Attempts remaining: 3\n",
            "Guess a letter: p\n",
            "Word: pr__ra_____\n",
            "Attempts remaining: 3\n",
            "Guess a letter: g\n",
            "Word: pr_gra____g\n",
            "Attempts remaining: 3\n",
            "Guess a letter: o\n",
            "Word: progra____g\n",
            "Attempts remaining: 3\n",
            "Guess a letter: m\n",
            "Word: programm__g\n",
            "Attempts remaining: 3\n",
            "Guess a letter: i\n",
            "Word: programmi_g\n",
            "Attempts remaining: 3\n",
            "Guess a letter: n\n",
            "Word: programming\n",
            "Attempts remaining: 3\n",
            "Congratulations! You guessed the word.\n"
          ]
        }
      ],
      "source": [
        "import random\n",
        "\n",
        "def choose_word():\n",
        "  words = [\"python\", \"javascript\", \"programming\", \"computer\", \"science\", \"algorithm\", \"data\"]\n",
        "  return random.choice(words)\n",
        "\n",
        "def display_word(word, guessed_letters):\n",
        "  display = \"\"\n",
        "  for letter in word:\n",
        "    if letter in guessed_letters:\n",
        "      display += letter\n",
        "    else:\n",
        "      display += \"_\"\n",
        "  return display\n",
        "\n",
        "def hangman():\n",
        "  word = choose_word()\n",
        "  guessed_letters = set()\n",
        "  attempts = 6\n",
        "\n",
        "  print(\"Welcome to Hangman!\")\n",
        "\n",
        "  while attempts > 0:\n",
        "    display = display_word(word, guessed_letters)\n",
        "    print(f\"Word: {display}\")\n",
        "    print(f\"Attempts remaining: {attempts}\")\n",
        "\n",
        "    if display == word:\n",
        "      print(\"Congratulations! You guessed the word.\")\n",
        "      return\n",
        "\n",
        "    guess = input(\"Guess a letter: \").lower()\n",
        "\n",
        "    if len(guess) != 1 or not guess.isalpha():\n",
        "      print(\"Invalid input. Please enter a single letter.\")\n",
        "      continue\n",
        "\n",
        "    if guess in guessed_letters:\n",
        "      print(\"You already guessed that letter. Try again.\")\n",
        "      continue\n",
        "\n",
        "    guessed_letters.add(guess)\n",
        "\n",
        "    if guess not in word:\n",
        "      attempts -= 1\n",
        "      print(\"Incorrect guess.\")\n",
        "\n",
        "  print(f\"You ran out of attempts. The word was {word}.\")\n",
        "\n",
        "if __name__ == \"__main__\":\n",
        "  hangman()"
      ]
    }
  ]
}