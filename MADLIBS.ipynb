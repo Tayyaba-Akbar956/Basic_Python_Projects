{
  "nbformat": 4,
  "nbformat_minor": 0,
  "metadata": {
    "colab": {
      "provenance": [],
      "authorship_tag": "ABX9TyPeUdUamCTfD2F5DWOnJqL1"
    },
    "kernelspec": {
      "name": "python3",
      "display_name": "Python 3"
    },
    "language_info": {
      "name": "python"
    }
  },
  "cells": [
    {
      "cell_type": "code",
      "source": [
        "noun1=input(\"noun: \")\n",
        "verb1=input(\"verb: \")\n",
        "pronoun=input(\"pronoun: \")\n",
        "verb2=input(\"verb: \")\n",
        "noun2=input(\"noun: \")\n",
        "noun3=input(\"noun: \")\n",
        "verb3=input(\"verb: \")\n",
        "pron=input(\"pronoun: \")\n",
        "adj1=input(\"adjective: \")\n",
        "adj2=input(\"adjective: \")\n",
        "adj3=input(\"adjective: \")\n",
        "\n",
        "madlib = (f\"\"\"Today I {verb1} to a {noun1} where I saw a {noun2} who was {verb2} some delicious {noun3}.\n",
        "I {verb3} 4 different flavour of {pron}.Two of them tastes the {adj1},\n",
        "one was {adj2} and the fourth one tastes the {adj3}.\"\"\")\n",
        "\n",
        "print(madlib)"
      ],
      "metadata": {
        "colab": {
          "base_uri": "https://localhost:8080/"
        },
        "id": "azQCPKEnZvZa",
        "outputId": "3c856e39-3475-4554-ba18-2c27a7ae1b6d"
      },
      "execution_count": null,
      "outputs": [
        {
          "output_type": "stream",
          "name": "stdout",
          "text": [
            "noun: noddles\n",
            "verb: working\n",
            "pronoun: me\n",
            "verb: die\n",
            "noun: book\n",
            "noun: charger\n",
            "verb: bpoking\n",
            "pronoun: them\n",
            "adjective: beautiful\n",
            "adjective: tasty\n",
            "adjective: worst\n",
            "Today I working to a noddles where I saw a book who was die some delicious charger.\n",
            "I bpoking 4 different flavour of them.Two of them tastes the beautiful,\n",
            "one was tasty and the fourth one tastes the worst.\n"
          ]
        }
      ]
    }
  ]
}