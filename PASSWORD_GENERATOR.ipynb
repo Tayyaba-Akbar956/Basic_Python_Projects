{
  "nbformat": 4,
  "nbformat_minor": 0,
  "metadata": {
    "colab": {
      "provenance": [],
      "authorship_tag": "ABX9TyOv3e6Eve6RD1+NY4nfLCbv",
      "include_colab_link": true
    },
    "kernelspec": {
      "name": "python3",
      "display_name": "Python 3"
    },
    "language_info": {
      "name": "python"
    }
  },
  "cells": [
    {
      "cell_type": "markdown",
      "metadata": {
        "id": "view-in-github",
        "colab_type": "text"
      },
      "source": [
        "<a href=\"https://colab.research.google.com/github/Tayyaba-Akbar956/Basic_Python_Projects/blob/main/PASSWORD_GENERATOR.ipynb\" target=\"_parent\"><img src=\"https://colab.research.google.com/assets/colab-badge.svg\" alt=\"Open In Colab\"/></a>"
      ]
    },
    {
      "cell_type": "code",
      "execution_count": 2,
      "metadata": {
        "colab": {
          "base_uri": "https://localhost:8080/"
        },
        "id": "zvggTphZ2mzk",
        "outputId": "d98c828d-e8d0-43d6-f9ed-c3674fa38d02"
      },
      "outputs": [
        {
          "output_type": "stream",
          "name": "stdout",
          "text": [
            "WELCOME TO YOUR PASSWORD GENERATOR\n",
            "\n",
            "Enter the number of passwords you want 1\n",
            "Enter the lenghth of your password 12\n",
            "UhCPt2QM5wUz\n"
          ]
        }
      ],
      "source": [
        "print (\"WELCOME TO YOUR PASSWORD GENERATOR\\n\")\n",
        "\n",
        "import random\n",
        "\n",
        "chars = \"abcdefghijklmnopqrstuvwxyzABCDEFGHIJKLMNOPQRSTUVWXYZ!@#$%^&*()1234567890\"\n",
        "\n",
        "number = int ( input (\"Enter the number of passwords you want \"))\n",
        "length = int ( input (\"Enter the lenghth of your password \"))\n",
        "\n",
        "for pwd in range (number):\n",
        "    passwords = \"\"\n",
        "    for c in range (length):\n",
        "        passwords += random.choice (chars)\n",
        "    print (passwords)\n"
      ]
    }
  ]
}