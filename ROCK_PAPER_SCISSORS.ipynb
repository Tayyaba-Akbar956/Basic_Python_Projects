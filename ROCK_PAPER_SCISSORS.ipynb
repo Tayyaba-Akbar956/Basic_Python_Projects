{
  "nbformat": 4,
  "nbformat_minor": 0,
  "metadata": {
    "colab": {
      "provenance": [],
      "authorship_tag": "ABX9TyPS7G+pqXSbd7qfLpkn3tRV"
    },
    "kernelspec": {
      "name": "python3",
      "display_name": "Python 3"
    },
    "language_info": {
      "name": "python"
    }
  },
  "cells": [
    {
      "cell_type": "code",
      "source": [
        "import random\n",
        "\n",
        "def play_rock_paper_scissors():\n",
        "    \"\"\"Plays a game of Rock, Paper, Scissors with the user.\"\"\"\n",
        "\n",
        "    options = [\"rock\", \"paper\", \"scissors\"]\n",
        "    user_choice = input(\"Enter your choice (rock, paper, scissors): \").lower()\n",
        "\n",
        "    while user_choice not in options:\n",
        "        print(\"Invalid choice. Please enter rock, paper, or scissors.\")\n",
        "        user_choice = input(\"Enter your choice (rock, paper, scissors): \").lower()\n",
        "\n",
        "    computer_choice = random.choice(options)\n",
        "    print(f\"You chose: {user_choice}\")\n",
        "    print(f\"Computer chose: {computer_choice}\")\n",
        "\n",
        "    if user_choice == computer_choice:\n",
        "        print(\"It's a tie!\")\n",
        "    elif (user_choice == \"rock\" and computer_choice == \"scissors\") or \\\n",
        "         (user_choice == \"paper\" and computer_choice == \"rock\") or \\\n",
        "         (user_choice == \"scissors\" and computer_choice == \"paper\"):\n",
        "        print(\"You win!\")\n",
        "    else:\n",
        "        print(\"You lose!\")\n",
        "\n",
        "# Start the game\n",
        "play_rock_paper_scissors()"
      ],
      "metadata": {
        "colab": {
          "base_uri": "https://localhost:8080/"
        },
        "id": "mdpisNQta1dO",
        "outputId": "f3913be7-78a5-471f-abd1-45dc73ebfc9a"
      },
      "execution_count": null,
      "outputs": [
        {
          "output_type": "stream",
          "name": "stdout",
          "text": [
            "Enter your choice (rock, paper, scissors): paper\n",
            "You chose: paper\n",
            "Computer chose: rock\n",
            "You win!\n"
          ]
        }
      ]
    }
  ]
}